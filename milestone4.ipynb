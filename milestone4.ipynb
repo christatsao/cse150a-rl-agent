{
  "cells": [
    {
      "cell_type": "markdown",
      "id": "4dde2412",
      "metadata": {
        "id": "4dde2412"
      },
      "source": [
        "## Milestone 4; Movie Recommendation Model with Naïve Bayes"
      ]
    },
    {
      "cell_type": "markdown",
      "id": "6896c0b3",
      "metadata": {
        "id": "6896c0b3"
      },
      "source": [
        "### Load Data"
      ]
    },
    {
      "cell_type": "code",
      "execution_count": 2,
      "id": "a814b48e",
      "metadata": {
        "colab": {
          "base_uri": "https://localhost:8080/"
        },
        "id": "a814b48e",
        "outputId": "440d3578-add8-4154-a5d0-46ae0b4473e9"
      },
      "outputs": [
        {
          "name": "stdout",
          "output_type": "stream",
          "text": [
            "   userId  movieId  rating  timestamp\n",
            "0     196      242       3  881250949\n",
            "1     186      302       3  891717742\n",
            "2      22      377       1  878887116\n",
            "3     244       51       2  880606923\n",
            "4     166      346       1  886397596\n",
            "   movieId              title release_date  video_release_date  \\\n",
            "0        1   Toy Story (1995)  01-Jan-1995                 NaN   \n",
            "1        2   GoldenEye (1995)  01-Jan-1995                 NaN   \n",
            "2        3  Four Rooms (1995)  01-Jan-1995                 NaN   \n",
            "3        4  Get Shorty (1995)  01-Jan-1995                 NaN   \n",
            "4        5     Copycat (1995)  01-Jan-1995                 NaN   \n",
            "\n",
            "                                            IMDb_URL  unknown  Action  \\\n",
            "0  http://us.imdb.com/M/title-exact?Toy%20Story%2...        0       0   \n",
            "1  http://us.imdb.com/M/title-exact?GoldenEye%20(...        0       1   \n",
            "2  http://us.imdb.com/M/title-exact?Four%20Rooms%...        0       0   \n",
            "3  http://us.imdb.com/M/title-exact?Get%20Shorty%...        0       1   \n",
            "4  http://us.imdb.com/M/title-exact?Copycat%20(1995)        0       0   \n",
            "\n",
            "   Adventure  Animation  Children's  ...  Fantasy  Film-Noir  Horror  Musical  \\\n",
            "0          0          1           1  ...        0          0       0        0   \n",
            "1          1          0           0  ...        0          0       0        0   \n",
            "2          0          0           0  ...        0          0       0        0   \n",
            "3          0          0           0  ...        0          0       0        0   \n",
            "4          0          0           0  ...        0          0       0        0   \n",
            "\n",
            "   Mystery  Romance  Sci-Fi  Thriller  War  Western  \n",
            "0        0        0       0         0    0        0  \n",
            "1        0        0       0         1    0        0  \n",
            "2        0        0       0         1    0        0  \n",
            "3        0        0       0         0    0        0  \n",
            "4        0        0       0         1    0        0  \n",
            "\n",
            "[5 rows x 24 columns]\n"
          ]
        }
      ],
      "source": [
        "import pandas as pd\n",
        "\n",
        "base_path = './ml-100k/'\n",
        "\n",
        "# 1. Load ratings (u.data: tab-separated userId | movieId | rating | timestamp)\n",
        "ratings_cols = ['userId','movieId','rating','timestamp']\n",
        "ratings = pd.read_csv(\n",
        "    f'{base_path}u.data',\n",
        "    sep='\\t',\n",
        "    names=ratings_cols,\n",
        "    engine='python'\n",
        ")\n",
        "\n",
        "# 2. Load movies (u.item: pipe-separated; first 5 cols + 19 genre flags)\n",
        "item_cols = ['movieId','title','release_date','video_release_date','IMDb_URL']\n",
        "genre_cols = [\n",
        "    'unknown','Action','Adventure','Animation',\"Children's\",'Comedy','Crime',\n",
        "    'Documentary','Drama','Fantasy','Film-Noir','Horror','Musical','Mystery',\n",
        "    'Romance','Sci-Fi','Thriller','War','Western'\n",
        "]\n",
        "movies = pd.read_csv(\n",
        "    f'{base_path}u.item',\n",
        "    sep='|',\n",
        "    names=item_cols + genre_cols,\n",
        "    encoding='latin-1',\n",
        "    engine='python'\n",
        ")\n",
        "\n",
        "# 3. Quick sanity-check\n",
        "print(ratings.head())\n",
        "print(movies.head())\n"
      ]
    },
    {
      "cell_type": "markdown",
      "id": "a96c1c9a",
      "metadata": {
        "id": "a96c1c9a"
      },
      "source": [
        "## Model Implementation"
      ]
    },
    {
      "cell_type": "code",
      "execution_count": 3,
      "id": "4982a11e",
      "metadata": {
        "id": "4982a11e",
        "outputId": "12ef265b-595b-4065-9aff-7f6b24cd70a8"
      },
      "outputs": [
        {
          "data": {
            "text/html": [
              "<div>\n",
              "<style scoped>\n",
              "    .dataframe tbody tr th:only-of-type {\n",
              "        vertical-align: middle;\n",
              "    }\n",
              "\n",
              "    .dataframe tbody tr th {\n",
              "        vertical-align: top;\n",
              "    }\n",
              "\n",
              "    .dataframe thead th {\n",
              "        text-align: right;\n",
              "    }\n",
              "</style>\n",
              "<table border=\"1\" class=\"dataframe\">\n",
              "  <thead>\n",
              "    <tr style=\"text-align: right;\">\n",
              "      <th></th>\n",
              "      <th>movieId</th>\n",
              "      <th>rating</th>\n",
              "    </tr>\n",
              "  </thead>\n",
              "  <tbody>\n",
              "    <tr>\n",
              "      <th>0</th>\n",
              "      <td>61</td>\n",
              "      <td>True</td>\n",
              "    </tr>\n",
              "    <tr>\n",
              "      <th>1</th>\n",
              "      <td>189</td>\n",
              "      <td>False</td>\n",
              "    </tr>\n",
              "    <tr>\n",
              "      <th>2</th>\n",
              "      <td>33</td>\n",
              "      <td>True</td>\n",
              "    </tr>\n",
              "    <tr>\n",
              "      <th>3</th>\n",
              "      <td>160</td>\n",
              "      <td>True</td>\n",
              "    </tr>\n",
              "    <tr>\n",
              "      <th>4</th>\n",
              "      <td>20</td>\n",
              "      <td>True</td>\n",
              "    </tr>\n",
              "    <tr>\n",
              "      <th>...</th>\n",
              "      <td>...</td>\n",
              "      <td>...</td>\n",
              "    </tr>\n",
              "    <tr>\n",
              "      <th>267</th>\n",
              "      <td>28</td>\n",
              "      <td>True</td>\n",
              "    </tr>\n",
              "    <tr>\n",
              "      <th>268</th>\n",
              "      <td>172</td>\n",
              "      <td>True</td>\n",
              "    </tr>\n",
              "    <tr>\n",
              "      <th>269</th>\n",
              "      <td>122</td>\n",
              "      <td>False</td>\n",
              "    </tr>\n",
              "    <tr>\n",
              "      <th>270</th>\n",
              "      <td>152</td>\n",
              "      <td>True</td>\n",
              "    </tr>\n",
              "    <tr>\n",
              "      <th>271</th>\n",
              "      <td>94</td>\n",
              "      <td>False</td>\n",
              "    </tr>\n",
              "  </tbody>\n",
              "</table>\n",
              "<p>272 rows × 2 columns</p>\n",
              "</div>"
            ],
            "text/plain": [
              "     movieId  rating\n",
              "0         61    True\n",
              "1        189   False\n",
              "2         33    True\n",
              "3        160    True\n",
              "4         20    True\n",
              "..       ...     ...\n",
              "267       28    True\n",
              "268      172    True\n",
              "269      122   False\n",
              "270      152    True\n",
              "271       94   False\n",
              "\n",
              "[272 rows x 2 columns]"
            ]
          },
          "execution_count": 3,
          "metadata": {},
          "output_type": "execute_result"
        }
      ],
      "source": [
        "movies_final = movies.drop(['title', 'release_date', 'video_release_date', 'IMDb_URL'], axis = 1).set_index('movieId')\n",
        "user_rating = ratings[ratings['userId'] == 1]\n",
        "user_rating_cleaned = user_rating.reset_index()[['movieId', 'rating']]\n",
        "user_rating_cleaned['rating'] = user_rating_cleaned['rating'].isin([4,5])\n",
        "user_rating_cleaned\n"
      ]
    },
    {
      "cell_type": "markdown",
      "id": "7ac90d86",
      "metadata": {
        "id": "7ac90d86"
      },
      "source": [
        "### Naïve Bayes Recommendation"
      ]
    },
    {
      "cell_type": "code",
      "execution_count": 4,
      "id": "304e15a7",
      "metadata": {
        "id": "304e15a7",
        "outputId": "ea64ce10-afd6-4c15-f764-3b874481f974"
      },
      "outputs": [
        {
          "data": {
            "text/html": [
              "<div>\n",
              "<style scoped>\n",
              "    .dataframe tbody tr th:only-of-type {\n",
              "        vertical-align: middle;\n",
              "    }\n",
              "\n",
              "    .dataframe tbody tr th {\n",
              "        vertical-align: top;\n",
              "    }\n",
              "\n",
              "    .dataframe thead th {\n",
              "        text-align: right;\n",
              "    }\n",
              "</style>\n",
              "<table border=\"1\" class=\"dataframe\">\n",
              "  <thead>\n",
              "    <tr style=\"text-align: right;\">\n",
              "      <th></th>\n",
              "      <th>p_y_given_X</th>\n",
              "      <th>pred_rating</th>\n",
              "    </tr>\n",
              "    <tr>\n",
              "      <th>movieId</th>\n",
              "      <th></th>\n",
              "      <th></th>\n",
              "    </tr>\n",
              "  </thead>\n",
              "  <tbody>\n",
              "    <tr>\n",
              "      <th>1682</th>\n",
              "      <td>4.878166e-02</td>\n",
              "      <td>1</td>\n",
              "    </tr>\n",
              "    <tr>\n",
              "      <th>1005</th>\n",
              "      <td>4.878166e-02</td>\n",
              "      <td>1</td>\n",
              "    </tr>\n",
              "    <tr>\n",
              "      <th>1564</th>\n",
              "      <td>4.878166e-02</td>\n",
              "      <td>1</td>\n",
              "    </tr>\n",
              "    <tr>\n",
              "      <th>985</th>\n",
              "      <td>4.878166e-02</td>\n",
              "      <td>1</td>\n",
              "    </tr>\n",
              "    <tr>\n",
              "      <th>981</th>\n",
              "      <td>4.878166e-02</td>\n",
              "      <td>1</td>\n",
              "    </tr>\n",
              "    <tr>\n",
              "      <th>...</th>\n",
              "      <td>...</td>\n",
              "      <td>...</td>\n",
              "    </tr>\n",
              "    <tr>\n",
              "      <th>993</th>\n",
              "      <td>1.783629e-07</td>\n",
              "      <td>0</td>\n",
              "    </tr>\n",
              "    <tr>\n",
              "      <th>426</th>\n",
              "      <td>1.502854e-07</td>\n",
              "      <td>0</td>\n",
              "    </tr>\n",
              "    <tr>\n",
              "      <th>560</th>\n",
              "      <td>7.570921e-08</td>\n",
              "      <td>0</td>\n",
              "    </tr>\n",
              "    <tr>\n",
              "      <th>820</th>\n",
              "      <td>4.939761e-08</td>\n",
              "      <td>0</td>\n",
              "    </tr>\n",
              "    <tr>\n",
              "      <th>1076</th>\n",
              "      <td>3.635664e-08</td>\n",
              "      <td>0</td>\n",
              "    </tr>\n",
              "  </tbody>\n",
              "</table>\n",
              "<p>1410 rows × 2 columns</p>\n",
              "</div>"
            ],
            "text/plain": [
              "          p_y_given_X  pred_rating\n",
              "movieId                           \n",
              "1682     4.878166e-02            1\n",
              "1005     4.878166e-02            1\n",
              "1564     4.878166e-02            1\n",
              "985      4.878166e-02            1\n",
              "981      4.878166e-02            1\n",
              "...               ...          ...\n",
              "993      1.783629e-07            0\n",
              "426      1.502854e-07            0\n",
              "560      7.570921e-08            0\n",
              "820      4.939761e-08            0\n",
              "1076     3.635664e-08            0\n",
              "\n",
              "[1410 rows x 2 columns]"
            ]
          },
          "execution_count": 4,
          "metadata": {},
          "output_type": "execute_result"
        }
      ],
      "source": [
        "movies_final = movies.drop(['title', 'release_date', 'video_release_date', 'IMDb_URL'], axis = 1).set_index('movieId')\n",
        "def user_df(userID):\n",
        "  user_rating = ratings[ratings['userId'] == userID]\n",
        "  user_rating_cleaned = user_rating.reset_index()[['movieId', 'rating']]\n",
        "  user_rating_cleaned['rating'] = user_rating_cleaned['rating'].isin([4,5])\n",
        "  return user_rating_cleaned\n",
        "user_rating_cleaned = user_df(1)\n",
        "user_rating_cleaned\n",
        "\n",
        "\n",
        "def p_X_given_y(row, reviews): #returns P(x_1 | y), P(x_2 | y), P(x_3 | y)...\n",
        "    matches = (reviews.values == row.values).sum(axis=0)\n",
        "    return (1 + matches) / (1 + len(reviews))  #P(X | y) = count(X, y) / count(y), with laplace smoothing\n",
        "\n",
        "def p_y_given_X(row, movies_final, ratings_final): #P(y | X) ∝ P(Y) * ∏ P(X | y)\n",
        "    p_y = ratings_final['rating'].mean() #P(Y) = count(Y) / count(All)\n",
        "    good_review_ids = ratings_final[ratings_final['rating']]['movieId']\n",
        "    p_X_given_y_vector = p_X_given_y(row, movies_final.loc[good_review_ids]) #P(x_1 | y), P(x_2 | y), P(x_3 | y)...\n",
        "    return p_y * p_X_given_y_vector.prod() #P(y | X) ∝ P(Y) * ∏ P(x_i | y)\n",
        "\n",
        "def p_y_0_given_X(row, movies_final, ratings_final): #P(y | X) ∝ P(Y) * ∏ P(X | y)\n",
        "    p_y = 1 - ratings_final['rating'].mean() #P(Y) = count(Y) / count(All)\n",
        "    bad_review_ids = ratings_final[~ratings_final['rating']]['movieId']\n",
        "    p_X_given_y_vector = p_X_given_y(row, movies_final.loc[bad_review_ids]) #P(x_1 | y), P(x_2 | y), P(x_3 | y)...\n",
        "    return p_y * p_X_given_y_vector.prod() #P(y | X) ∝ P(Y) * ∏ P(x_i | y)\n",
        "\n",
        "# compute P(y|X) for all unwatched movies\n",
        "# accepts as input the whole dataframe of all movies(final_df), and the dataframe of all watched movies by the user(watched_df)\n",
        "def naive_bayes(movies_final, user_rating_cleaned):\n",
        "    unwatched_df = movies_final[~movies_final.index.isin(user_rating_cleaned['movieId'])].copy()\n",
        "    p_y_given_X_col = unwatched_df.apply(p_y_given_X, axis = 1, args = (movies_final, user_rating_cleaned))\n",
        "    p_y_0_given_X_col = unwatched_df.apply(p_y_0_given_X, axis = 1, args = (movies_final, user_rating_cleaned))\n",
        "    unwatched_df['p_y_given_X'] = p_y_given_X_col\n",
        "    unwatched_df['p_y_0_given_X'] = p_y_0_given_X_col\n",
        "    unwatched_df['pred_rating'] = (unwatched_df['p_y_given_X'] > unwatched_df['p_y_0_given_X']).astype(int)\n",
        "    return unwatched_df.sort_values(by = 'p_y_given_X', ascending = False)[['p_y_given_X', 'pred_rating']]\n",
        "\n",
        "naive_bayes(movies_final, user_rating_cleaned)  # Randomly select 20% of the DataFrame as watched"
      ]
    },
    {
      "cell_type": "markdown",
      "id": "2db36a19",
      "metadata": {
        "id": "2db36a19"
      },
      "source": [
        "### Train / Test Split"
      ]
    },
    {
      "cell_type": "code",
      "execution_count": 5,
      "id": "9cec1a60",
      "metadata": {
        "id": "9cec1a60",
        "outputId": "625bc145-8eba-4b55-da4e-da0d0e739d1d"
      },
      "outputs": [
        {
          "name": "stderr",
          "output_type": "stream",
          "text": [
            "/Users/christat/anaconda3/lib/python3.10/site-packages/sklearn/metrics/_classification.py:1344: UndefinedMetricWarning: Precision is ill-defined and being set to 0.0 due to no predicted samples. Use `zero_division` parameter to control this behavior.\n",
            "  _warn_prf(average, modifier, msg_start, len(result))\n",
            "/Users/christat/anaconda3/lib/python3.10/site-packages/sklearn/metrics/_classification.py:1344: UndefinedMetricWarning: Precision is ill-defined and being set to 0.0 due to no predicted samples. Use `zero_division` parameter to control this behavior.\n",
            "  _warn_prf(average, modifier, msg_start, len(result))\n"
          ]
        },
        {
          "data": {
            "image/png": "[encoded data removed]",
            "text/plain": [
              "<Figure size 640x480 with 1 Axes>"
            ]
          },
          "metadata": {},
          "output_type": "display_data"
        },
        {
          "data": {
            "image/png": "[encoded data removed]",
            "text/plain": [
              "<Figure size 640x480 with 1 Axes>"
            ]
          },
          "metadata": {},
          "output_type": "display_data"
        },
        {
          "data": {
            "image/png": "[encoded data removed]",
            "text/plain": [
              "<Figure size 640x480 with 1 Axes>"
            ]
          },
          "metadata": {},
          "output_type": "display_data"
        },
        {
          "name": "stdout",
          "output_type": "stream",
          "text": [
            "Precision: 0.5823\n",
            "Recall: 0.6163\n",
            "Accuracy: 0.5965\n"
          ]
        }
      ],
      "source": [
        "import pandas as pd\n",
        "import numpy as np\n",
        "import matplotlib.pyplot as plt\n",
        "\n",
        "from sklearn.model_selection import train_test_split\n",
        "from sklearn.metrics import precision_score, recall_score, accuracy_score\n",
        "\n",
        "users = np.random.randint(930, size=100)\n",
        "results_matrix = []\n",
        "for user in users:\n",
        "  user_rating_cleaned = user_df(user)\n",
        "  train_data, test_data = train_test_split(user_rating_cleaned, test_size=0.2)\n",
        "  train_predictions = naive_bayes(movies_final, train_data)\n",
        "  test_data_with_predictions = pd.merge(train_predictions, test_data, left_index = True, right_on = 'movieId')\n",
        "  test_data_with_predictions\n",
        "\n",
        "  y_true = test_data_with_predictions['rating']\n",
        "  y_pred = test_data_with_predictions['pred_rating']\n",
        "  precision = precision_score(y_true, y_pred)\n",
        "  recall = recall_score(y_true, y_pred)\n",
        "  accuracy = accuracy_score(y_true, y_pred)\n",
        "  result = [precision, recall, accuracy]\n",
        "  results_matrix.append(result)\n",
        "results_matrix = np.array(results_matrix)\n",
        "\n",
        "fig = plt.figure()\n",
        "plt.subplot(2, 2, 1)\n",
        "plt.hist(results_matrix[:, 0], bins = 15, color = 'skyblue', edgecolor='black')\n",
        "plt.xlabel('Precision')\n",
        "plt.ylabel('Frequency')\n",
        "plt.locator_params(axis='y', integer = 'True')\n",
        "plt.show()\n",
        "plt.subplot(2, 2, 2)\n",
        "plt.hist(results_matrix[:, 1], bins = 15, color = 'skyblue', edgecolor='black')\n",
        "plt.xlabel('Recall')\n",
        "plt.ylabel('Frequency')\n",
        "plt.locator_params(axis='y', integer = 'True')\n",
        "plt.show()\n",
        "plt.subplot(2, 2, 3)\n",
        "plt.hist(results_matrix[:, 2], bins = 15, color = 'skyblue', edgecolor='black')\n",
        "plt.xlabel('Accuracy')\n",
        "plt.ylabel('Frequency')\n",
        "plt.locator_params(axis='y', integer = 'True')\n",
        "plt.show()\n",
        "print(f\"Precision: {results_matrix[:, 0].mean():.4f}\")\n",
        "print(f\"Recall: {results_matrix[:, 1].mean():.4f}\")\n",
        "print(f\"Accuracy: {results_matrix[:, 2].mean():.4f}\")\n"
      ]
    }
  ],
  "metadata": {
    "colab": {
      "provenance": []
    },
    "kernelspec": {
      "display_name": "dsc80",
      "language": "python",
      "name": "python3"
    },
    "language_info": {
      "codemirror_mode": {
        "name": "ipython",
        "version": 3
      },
      "file_extension": ".py",
      "mimetype": "text/x-python",
      "name": "python",
      "nbconvert_exporter": "python",
      "pygments_lexer": "ipython3",
      "version": "3.12.10"
    }
  },
  "nbformat": 4,
  "nbformat_minor": 5
}
