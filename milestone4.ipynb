{
  "cells": [
    {
      "cell_type": "code",
      "execution_count": 1,
      "id": "a814b48e",
      "metadata": {
        "colab": {
          "base_uri": "https://localhost:8080/"
        },
        "id": "a814b48e",
        "outputId": "440d3578-add8-4154-a5d0-46ae0b4473e9"
      },
      "outputs": [
        {
          "name": "stdout",
          "output_type": "stream",
          "text": [
            "   userId  movieId  rating  timestamp\n",
            "0     196      242       3  881250949\n",
            "1     186      302       3  891717742\n",
            "2      22      377       1  878887116\n",
            "3     244       51       2  880606923\n",
            "4     166      346       1  886397596\n",
            "   movieId              title release_date  video_release_date  \\\n",
            "0        1   Toy Story (1995)  01-Jan-1995                 NaN   \n",
            "1        2   GoldenEye (1995)  01-Jan-1995                 NaN   \n",
            "2        3  Four Rooms (1995)  01-Jan-1995                 NaN   \n",
            "3        4  Get Shorty (1995)  01-Jan-1995                 NaN   \n",
            "4        5     Copycat (1995)  01-Jan-1995                 NaN   \n",
            "\n",
            "                                            IMDb_URL  unknown  Action  \\\n",
            "0  http://us.imdb.com/M/title-exact?Toy%20Story%2...        0       0   \n",
            "1  http://us.imdb.com/M/title-exact?GoldenEye%20(...        0       1   \n",
            "2  http://us.imdb.com/M/title-exact?Four%20Rooms%...        0       0   \n",
            "3  http://us.imdb.com/M/title-exact?Get%20Shorty%...        0       1   \n",
            "4  http://us.imdb.com/M/title-exact?Copycat%20(1995)        0       0   \n",
            "\n",
            "   Adventure  Animation  Children's  ...  Fantasy  Film-Noir  Horror  Musical  \\\n",
            "0          0          1           1  ...        0          0       0        0   \n",
            "1          1          0           0  ...        0          0       0        0   \n",
            "2          0          0           0  ...        0          0       0        0   \n",
            "3          0          0           0  ...        0          0       0        0   \n",
            "4          0          0           0  ...        0          0       0        0   \n",
            "\n",
            "   Mystery  Romance  Sci-Fi  Thriller  War  Western  \n",
            "0        0        0       0         0    0        0  \n",
            "1        0        0       0         1    0        0  \n",
            "2        0        0       0         1    0        0  \n",
            "3        0        0       0         0    0        0  \n",
            "4        0        0       0         1    0        0  \n",
            "\n",
            "[5 rows x 24 columns]\n"
          ]
        }
      ],
      "source": [
        "import pandas as pd\n",
        "\n",
        "base_path = './ml-100k/'\n",
        "\n",
        "# 1. Load ratings (u.data: tab-separated userId | movieId | rating | timestamp)\n",
        "ratings_cols = ['userId','movieId','rating','timestamp']\n",
        "ratings = pd.read_csv(\n",
        "    f'{base_path}u.data',\n",
        "    sep='\\t',\n",
        "    names=ratings_cols,\n",
        "    engine='python'\n",
        ")\n",
        "\n",
        "# 2. Load movies (u.item: pipe-separated; first 5 cols + 19 genre flags)\n",
        "item_cols = ['movieId','title','release_date','video_release_date','IMDb_URL']\n",
        "genre_cols = [\n",
        "    'unknown','Action','Adventure','Animation',\"Children's\",'Comedy','Crime',\n",
        "    'Documentary','Drama','Fantasy','Film-Noir','Horror','Musical','Mystery',\n",
        "    'Romance','Sci-Fi','Thriller','War','Western'\n",
        "]\n",
        "movies = pd.read_csv(\n",
        "    f'{base_path}u.item',\n",
        "    sep='|',\n",
        "    names=item_cols + genre_cols,\n",
        "    encoding='latin-1',\n",
        "    engine='python'\n",
        ")\n",
        "\n",
        "# 3. Quick sanity-check\n",
        "print(ratings.head())\n",
        "print(movies.head())\n"
      ]
    },
    {
      "cell_type": "markdown",
      "id": "a96c1c9a",
      "metadata": {
        "id": "a96c1c9a"
      },
      "source": [
        "## Model Implementation"
      ]
    },
    {
      "cell_type": "code",
      "execution_count": 2,
      "id": "f80015c3",
      "metadata": {
        "colab": {
          "base_uri": "https://localhost:8080/",
          "height": 429
        },
        "id": "f80015c3",
        "outputId": "a18715d3-a038-4dfd-9be2-df4c893e48d8"
      },
      "outputs": [
        {
          "data": {
            "text/plain": [
              "movieId\n",
              "1682    Scream of Stone (Schrei aus Stein) (1991)\n",
              "909                       Dangerous Beauty (1998)\n",
              "961                                Orlando (1993)\n",
              "958                       To Live (Huozhe) (1994)\n",
              "956                          Nobody's Fool (1994)\n",
              "310                         Rainmaker, The (1997)\n",
              "1381                          Losing Chase (1996)\n",
              "317              In the Name of the Father (1993)\n",
              "942          What's Love Got to Do with It (1993)\n",
              "1558                             Aparajito (1956)\n",
              "Name: title, dtype: object"
            ]
          },
          "execution_count": 2,
          "metadata": {},
          "output_type": "execute_result"
        }
      ],
      "source": [
        "# mean rating of movies dataframe, converted to integer as to be a categorical feature\n",
        "mean_ratings = ratings.groupby(ratings.movieId).mean()[['rating']].astype(int)\n",
        "\n",
        "# merge movies dataframe on mean_ratings dataframe by movieId\n",
        "# final_df contains genres as features (True or False) and Ratings as a feature (1-5)\n",
        "final_df = pd.merge(mean_ratings, movies.set_index('movieId'), left_index= True, right_index=True)\n",
        "\n",
        "def p_X_given_y(watched_df, row): #returns P(x_1 | y), P(x_2 | y), P(x_3 | y)...\n",
        "    row = row.drop(['title', 'release_date', 'video_release_date', 'IMDb_URL']) #drop non-features\n",
        "    matches = (watched_df[row.index] == row.values).sum() #count(X, y)\n",
        "    return (1 + matches) / (1 + len(watched_df))  #P(X | y) = count(X, y) / count(y), with laplace smoothing\n",
        "\n",
        "\n",
        "def p_y_given_X(row, watched_df, final_df): #P(y | X) ∝ P(Y) * ∏ P(X | y)\n",
        "    p_y = len(watched_df) / len(final_df) #P(Y) = count(Y) / count(All)\n",
        "    p_X_given_y_vector = p_X_given_y(watched_df, row) #P(x_1 | y), P(x_2 | y), P(x_3 | y)...\n",
        "    return p_y * p_X_given_y_vector.prod() #P(y | X) ∝ P(Y) * ∏ P(x_i | y)\n",
        "\n",
        "\n",
        "# compute P(y|X) for all unwatched movies\n",
        "# accepts as input the whole dataframe of all movies(final_df), and the dataframe of all watched movies by the user(watched_df)\n",
        "def naive_bayes(final_df, watched_df):\n",
        "    unwatched_df = pd.concat([final_df, watched_df, watched_df]).drop_duplicates(keep=False) #unwatched_movies df\n",
        "    unwatched_df['p_y_given_X'] = unwatched_df.apply(p_y_given_X, axis = 1, args = (watched_df, final_df)) # P(y | X) for all unwatched movies\n",
        "    return unwatched_df.sort_values(by = 'p_y_given_X', ascending = False)['title'].head(10) # returns 10 movies with highest probability\n",
        "\n",
        "\n",
        "naive_bayes(final_df, final_df.sample(frac=0.2))  # Randomly select 20% of the DataFrame as watched"
      ]
    },
    {
      "cell_type": "code",
      "execution_count": 3,
      "id": "295cea89",
      "metadata": {
        "colab": {
          "base_uri": "https://localhost:8080/"
        },
        "id": "295cea89",
        "outputId": "f6d3796d-a956-48fc-ba5d-569ecee38ddc"
      },
      "outputs": [],
      "source": [
        "merged_df = ratings.merge(movies, on=\"movieId\")\n",
        "merged_df.sort_values(by = 'userId')#[merged_df['userId'] == 1]\n",
        "#merged_df[merged_df['userId'] == 1]\n",
        "hidden_df = merged_df[merged_df['userId'] == 1].sample(frac=0.2)\n",
        "watched_df = merged_df[merged_df['userId'] == 1].drop(hidden_df.index)\n",
        "result_df = naive_bayes(final_df, watched_df)\n"
      ]
    },
    {
      "cell_type": "code",
      "execution_count": 4,
      "id": "Bnk_H5FVxuc0",
      "metadata": {
        "colab": {
          "base_uri": "https://localhost:8080/"
        },
        "id": "Bnk_H5FVxuc0",
        "outputId": "7c20d7b3-fa95-4bd2-ed94-637e6182f20a"
      },
      "outputs": [
        {
          "name": "stdout",
          "output_type": "stream",
          "text": [
            "0.0\n",
            "0.0\n",
            "0.0\n",
            "0.0\n",
            "0.0\n",
            "0.0\n",
            "0.0\n",
            "0.0\n",
            "0.0\n",
            "0.0\n"
          ]
        }
      ],
      "source": [
        "# import random\n",
        "# #print(random.randint(3, 9))\n",
        "# def validator(result_df, hidden_df):\n",
        "#   value = 0\n",
        "#   for i in result_df.index:\n",
        "#     if i in hidden_df.index:\n",
        "#       value+=1\n",
        "#   percentage = value/len(result_df)\n",
        "#   return percentage\n",
        "\n",
        "# for i in range(10):\n",
        "#   ID = random.randint(1, 943)\n",
        "#   hidden_df = merged_df[merged_df['userId'] == ID].sample(frac=0.2)\n",
        "#   watched_df = merged_df[merged_df['userId'] == ID].drop(hidden_df.index)\n",
        "#   result_df = naive_bayes(final_df, watched_df)\n",
        "#   print(validator(result_df, hidden_df))\n"
      ]
    },
    {
      "cell_type": "code",
      "execution_count": 5,
      "id": "304e15a7",
      "metadata": {},
      "outputs": [
        {
          "data": {
            "text/html": [
              "<div>\n",
              "<style scoped>\n",
              "    .dataframe tbody tr th:only-of-type {\n",
              "        vertical-align: middle;\n",
              "    }\n",
              "\n",
              "    .dataframe tbody tr th {\n",
              "        vertical-align: top;\n",
              "    }\n",
              "\n",
              "    .dataframe thead th {\n",
              "        text-align: right;\n",
              "    }\n",
              "</style>\n",
              "<table border=\"1\" class=\"dataframe\">\n",
              "  <thead>\n",
              "    <tr style=\"text-align: right;\">\n",
              "      <th></th>\n",
              "      <th>p_y_given_X</th>\n",
              "    </tr>\n",
              "    <tr>\n",
              "      <th>movieId</th>\n",
              "      <th></th>\n",
              "    </tr>\n",
              "  </thead>\n",
              "  <tbody>\n",
              "    <tr>\n",
              "      <th>1682</th>\n",
              "      <td>4.878166e-02</td>\n",
              "    </tr>\n",
              "    <tr>\n",
              "      <th>1005</th>\n",
              "      <td>4.878166e-02</td>\n",
              "    </tr>\n",
              "    <tr>\n",
              "      <th>1564</th>\n",
              "      <td>4.878166e-02</td>\n",
              "    </tr>\n",
              "    <tr>\n",
              "      <th>985</th>\n",
              "      <td>4.878166e-02</td>\n",
              "    </tr>\n",
              "    <tr>\n",
              "      <th>981</th>\n",
              "      <td>4.878166e-02</td>\n",
              "    </tr>\n",
              "    <tr>\n",
              "      <th>...</th>\n",
              "      <td>...</td>\n",
              "    </tr>\n",
              "    <tr>\n",
              "      <th>993</th>\n",
              "      <td>1.783629e-07</td>\n",
              "    </tr>\n",
              "    <tr>\n",
              "      <th>426</th>\n",
              "      <td>1.502854e-07</td>\n",
              "    </tr>\n",
              "    <tr>\n",
              "      <th>560</th>\n",
              "      <td>7.570921e-08</td>\n",
              "    </tr>\n",
              "    <tr>\n",
              "      <th>820</th>\n",
              "      <td>4.939761e-08</td>\n",
              "    </tr>\n",
              "    <tr>\n",
              "      <th>1076</th>\n",
              "      <td>3.635664e-08</td>\n",
              "    </tr>\n",
              "  </tbody>\n",
              "</table>\n",
              "<p>1410 rows × 1 columns</p>\n",
              "</div>"
            ],
            "text/plain": [
              "          p_y_given_X\n",
              "movieId              \n",
              "1682     4.878166e-02\n",
              "1005     4.878166e-02\n",
              "1564     4.878166e-02\n",
              "985      4.878166e-02\n",
              "981      4.878166e-02\n",
              "...               ...\n",
              "993      1.783629e-07\n",
              "426      1.502854e-07\n",
              "560      7.570921e-08\n",
              "820      4.939761e-08\n",
              "1076     3.635664e-08\n",
              "\n",
              "[1410 rows x 1 columns]"
            ]
          },
          "execution_count": 5,
          "metadata": {},
          "output_type": "execute_result"
        }
      ],
      "source": [
        "def p_X_given_y(row, good_reviews): #returns P(x_1 | y), P(x_2 | y), P(x_3 | y)...\n",
        "    matches = (good_reviews.values == row.values).sum(axis=0)\n",
        "    return (1 + matches) / (1 + len(good_reviews))  #P(X | y) = count(X, y) / count(y), with laplace smoothing\n",
        "\n",
        "def p_y_given_X(row, movies_final, ratings_final): #P(y | X) ∝ P(Y) * ∏ P(X | y)\n",
        "    p_y = ratings_final['rating'].mean() #P(Y) = count(Y) / count(All)\n",
        "    good_review_ids = ratings_final[ratings_final['rating']]['movieId']\n",
        "    p_X_given_y_vector = p_X_given_y(row, movies_final.loc[good_review_ids]) #P(x_1 | y), P(x_2 | y), P(x_3 | y)...\n",
        "    return p_y * p_X_given_y_vector.prod() #P(y | X) ∝ P(Y) * ∏ P(x_i | y)\n",
        "\n",
        "# compute P(y|X) for all unwatched movies\n",
        "# accepts as input the whole dataframe of all movies(final_df), and the dataframe of all watched movies by the user(watched_df)\n",
        "def naive_bayes(movies, ratings):\n",
        "    movies_final = movies.drop(['title', 'release_date', 'video_release_date', 'IMDb_URL'], axis = 1).set_index('movieId')\n",
        "    ratings_final = ratings.reset_index()[['movieId', 'rating']]\n",
        "    ratings_final['rating'] = ratings_final['rating'].isin([4,5])\n",
        "    \n",
        "\n",
        "\n",
        "    unwatched_df = movies_final[~movies_final.index.isin(ratings_final['movieId'])].copy()\n",
        "    unwatched_df['p_y_given_X'] = unwatched_df.apply(p_y_given_X, axis = 1, args = (movies_final, ratings_final))\n",
        "    return unwatched_df.sort_values(by = 'p_y_given_X', ascending = False)[['p_y_given_X']]\n",
        "    \n",
        "naive_bayes(movies, ratings[ratings['userId'] == 1])  # Randomly select 20% of the DataFrame as watched"
      ]
    }
  ],
  "metadata": {
    "colab": {
      "provenance": []
    },
    "kernelspec": {
      "display_name": "dsc80",
      "language": "python",
      "name": "python3"
    },
    "language_info": {
      "codemirror_mode": {
        "name": "ipython",
        "version": 3
      },
      "file_extension": ".py",
      "mimetype": "text/x-python",
      "name": "python",
      "nbconvert_exporter": "python",
      "pygments_lexer": "ipython3",
      "version": "3.12.10"
    }
  },
  "nbformat": 4,
  "nbformat_minor": 5
}
