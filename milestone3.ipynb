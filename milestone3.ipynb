{
 "cells": [
  {
   "cell_type": "code",
   "execution_count": 106,
   "id": "a814b48e",
   "metadata": {},
   "outputs": [
    {
     "name": "stdout",
     "output_type": "stream",
     "text": [
      "   userId  movieId  rating  timestamp\n",
      "0     196      242       3  881250949\n",
      "1     186      302       3  891717742\n",
      "2      22      377       1  878887116\n",
      "3     244       51       2  880606923\n",
      "4     166      346       1  886397596\n",
      "   movieId              title release_date  video_release_date  \\\n",
      "0        1   Toy Story (1995)  01-Jan-1995                 NaN   \n",
      "1        2   GoldenEye (1995)  01-Jan-1995                 NaN   \n",
      "2        3  Four Rooms (1995)  01-Jan-1995                 NaN   \n",
      "3        4  Get Shorty (1995)  01-Jan-1995                 NaN   \n",
      "4        5     Copycat (1995)  01-Jan-1995                 NaN   \n",
      "\n",
      "                                            IMDb_URL  unknown  Action  \\\n",
      "0  http://us.imdb.com/M/title-exact?Toy%20Story%2...        0       0   \n",
      "1  http://us.imdb.com/M/title-exact?GoldenEye%20(...        0       1   \n",
      "2  http://us.imdb.com/M/title-exact?Four%20Rooms%...        0       0   \n",
      "3  http://us.imdb.com/M/title-exact?Get%20Shorty%...        0       1   \n",
      "4  http://us.imdb.com/M/title-exact?Copycat%20(1995)        0       0   \n",
      "\n",
      "   Adventure  Animation  Children's  ...  Fantasy  Film-Noir  Horror  Musical  \\\n",
      "0          0          1           1  ...        0          0       0        0   \n",
      "1          1          0           0  ...        0          0       0        0   \n",
      "2          0          0           0  ...        0          0       0        0   \n",
      "3          0          0           0  ...        0          0       0        0   \n",
      "4          0          0           0  ...        0          0       0        0   \n",
      "\n",
      "   Mystery  Romance  Sci-Fi  Thriller  War  Western  \n",
      "0        0        0       0         0    0        0  \n",
      "1        0        0       0         1    0        0  \n",
      "2        0        0       0         1    0        0  \n",
      "3        0        0       0         0    0        0  \n",
      "4        0        0       0         1    0        0  \n",
      "\n",
      "[5 rows x 24 columns]\n"
     ]
    }
   ],
   "source": [
    "import pandas as pd\n",
    "\n",
    "base_path = 'ml-100k/'\n",
    "\n",
    "# 1. Load ratings (u.data: tab-separated userId | movieId | rating | timestamp)\n",
    "ratings_cols = ['userId','movieId','rating','timestamp']\n",
    "ratings = pd.read_csv(\n",
    "    f'{base_path}u.data', \n",
    "    sep='\\t', \n",
    "    names=ratings_cols, \n",
    "    engine='python'\n",
    ")\n",
    "\n",
    "# 2. Load movies (u.item: pipe-separated; first 5 cols + 19 genre flags)\n",
    "item_cols = ['movieId','title','release_date','video_release_date','IMDb_URL']\n",
    "genre_cols = [\n",
    "    'unknown','Action','Adventure','Animation',\"Children's\",'Comedy','Crime',\n",
    "    'Documentary','Drama','Fantasy','Film-Noir','Horror','Musical','Mystery',\n",
    "    'Romance','Sci-Fi','Thriller','War','Western'\n",
    "]\n",
    "movies = pd.read_csv(\n",
    "    f'{base_path}u.item',\n",
    "    sep='|',\n",
    "    names=item_cols + genre_cols,\n",
    "    encoding='latin-1',\n",
    "    engine='python'\n",
    ")\n",
    "\n",
    "# 3. Quick sanity-check\n",
    "print(ratings.head())\n",
    "print(movies.head())\n"
   ]
  },
  {
   "cell_type": "code",
   "execution_count": null,
   "id": "f80015c3",
   "metadata": {},
   "outputs": [
    {
     "data": {
      "text/plain": [
       "movieId\n",
       "1682            Scream of Stone (Schrei aus Stein) (1991)\n",
       "1171                                    Wild Reeds (1994)\n",
       "1147                                     My Family (1995)\n",
       "1148                                     Tom & Viv (1994)\n",
       "1149                                     Walkabout (1971)\n",
       "1150                                    Last Dance (1996)\n",
       "1630    Silence of the Palace, The (Saimt el Qusur) (1...\n",
       "1168                                 Little Buddha (1993)\n",
       "1640                               Eighth Day, The (1996)\n",
       "1205                             Secret Agent, The (1996)\n",
       "Name: title, dtype: object"
      ]
     },
     "execution_count": 108,
     "metadata": {},
     "output_type": "execute_result"
    }
   ],
   "source": [
    "# Jul 18\n",
    "\n",
    "# mean rating of movies dataframe, converted to integer as to be a categorical feature\n",
    "mean_ratings = ratings.groupby(ratings.movieId).mean()[['rating']].astype(int) \n",
    "\n",
    "# merge movies dataframe on mean_ratings dataframe by movieId\n",
    "# final_df contains genres as features (True or False) and Ratings as a feature (1-5)\n",
    "final_df = pd.merge(mean_ratings, movies.set_index('movieId'), left_index= True, right_index=True)\n",
    "\n",
    "def p_X_given_y(watched_df, row): #returns P(x_1 | y), P(x_2 | y), P(x_3 | y)...\n",
    "    row = row.drop(['title', 'release_date', 'video_release_date', 'IMDb_URL']) #drop non-features\n",
    "    matches = (watched_df[row.index] == row.values).sum() #count(X, y)\n",
    "    return (1 + matches) / (1 + len(watched_df))  #P(X | y) = count(X, y) / count(y), with laplace smoothing\n",
    "\n",
    "\n",
    "def p_y_given_X(row, watched_df, final_df): #P(y | X) ∝ P(Y) * ∏ P(X | y)\n",
    "    p_y = len(watched_df) / len(final_df) #P(Y) = count(Y) / count(All)\n",
    "    p_X_given_y_vector = p_X_given_y(watched_df, row) #P(x_1 | y), P(x_2 | y), P(x_3 | y)...\n",
    "    return p_y * p_X_given_y_vector.prod() #P(y | X) ∝ P(Y) * ∏ P(X | y)\n",
    "\n",
    "\n",
    "# compute P(y|X) for all unwatched movies\n",
    "# accepts as input the whole dataframe of all movies(final_df), and the dataframe of all watched movies by the user(watched_df)\n",
    "def naive_bayes(final_df, watched_df):\n",
    "    unwatched_df = pd.concat([final_df, watched_df, watched_df]).drop_duplicates(keep=False) #unwatched_movies df\n",
    "    unwatched_df['p_y_given_X'] = unwatched_df.apply(p_y_given_X, axis = 1, args = (watched_df, final_df)) # P(y | X) for all unwatched movies\n",
    "    return unwatched_df.sort_values(by = 'p_y_given_X', ascending = False)['title'].head(10) # returns 10 movies with highest probability\n",
    "\n",
    "\n",
    "naive_bayes(final_df, final_df.sample(frac=0.2))  # Randomly select 20% of the DataFrame as watched"
   ]
  }
 ],
 "metadata": {
  "kernelspec": {
   "display_name": "dsc80",
   "language": "python",
   "name": "python3"
  },
  "language_info": {
   "codemirror_mode": {
    "name": "ipython",
    "version": 3
   },
   "file_extension": ".py",
   "mimetype": "text/x-python",
   "name": "python",
   "nbconvert_exporter": "python",
   "pygments_lexer": "ipython3",
   "version": "3.12.10"
  }
 },
 "nbformat": 4,
 "nbformat_minor": 5
}
